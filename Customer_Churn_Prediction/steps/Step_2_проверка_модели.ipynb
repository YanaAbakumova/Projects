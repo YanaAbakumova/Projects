{
 "cells": [
  {
   "cell_type": "code",
   "execution_count": 1,
   "id": "db3aefad",
   "metadata": {},
   "outputs": [],
   "source": [
    "import pandas as pd\n",
    "import numpy as np\n",
    "import dill\n",
    "dill._dill._reverse_typemap['ClassType'] = type\n",
    "from sklearn.metrics import precision_recall_curve, roc_curve, roc_auc_score, confusion_matrix\n",
    "import warnings\n",
    "warnings.simplefilter('ignore')"
   ]
  },
  {
   "cell_type": "markdown",
   "id": "9d0b2db5",
   "metadata": {},
   "source": [
    "Загрузим модель и тестовые данные и проверим работу модели"
   ]
  },
  {
   "cell_type": "code",
   "execution_count": 2,
   "id": "94d11cc3",
   "metadata": {},
   "outputs": [],
   "source": [
    "X_test = pd.read_csv(\"X_test.csv\")\n",
    "y_test = pd.read_csv(\"y_test.csv\")"
   ]
  },
  {
   "cell_type": "code",
   "execution_count": 3,
   "id": "e8c7d147",
   "metadata": {},
   "outputs": [
    {
     "data": {
      "text/html": [
       "<div>\n",
       "<style scoped>\n",
       "    .dataframe tbody tr th:only-of-type {\n",
       "        vertical-align: middle;\n",
       "    }\n",
       "\n",
       "    .dataframe tbody tr th {\n",
       "        vertical-align: top;\n",
       "    }\n",
       "\n",
       "    .dataframe thead th {\n",
       "        text-align: right;\n",
       "    }\n",
       "</style>\n",
       "<table border=\"1\" class=\"dataframe\">\n",
       "  <thead>\n",
       "    <tr style=\"text-align: right;\">\n",
       "      <th></th>\n",
       "      <th>customerID</th>\n",
       "      <th>gender</th>\n",
       "      <th>SeniorCitizen</th>\n",
       "      <th>Partner</th>\n",
       "      <th>Dependents</th>\n",
       "      <th>tenure</th>\n",
       "      <th>PhoneService</th>\n",
       "      <th>MultipleLines</th>\n",
       "      <th>InternetService</th>\n",
       "      <th>OnlineSecurity</th>\n",
       "      <th>OnlineBackup</th>\n",
       "      <th>DeviceProtection</th>\n",
       "      <th>TechSupport</th>\n",
       "      <th>StreamingTV</th>\n",
       "      <th>StreamingMovies</th>\n",
       "      <th>Contract</th>\n",
       "      <th>PaperlessBilling</th>\n",
       "      <th>PaymentMethod</th>\n",
       "      <th>MonthlyCharges</th>\n",
       "      <th>TotalCharges</th>\n",
       "    </tr>\n",
       "  </thead>\n",
       "  <tbody>\n",
       "    <tr>\n",
       "      <th>0</th>\n",
       "      <td>8879-ZKJOF</td>\n",
       "      <td>Female</td>\n",
       "      <td>0</td>\n",
       "      <td>No</td>\n",
       "      <td>No</td>\n",
       "      <td>41</td>\n",
       "      <td>Yes</td>\n",
       "      <td>No</td>\n",
       "      <td>DSL</td>\n",
       "      <td>Yes</td>\n",
       "      <td>No</td>\n",
       "      <td>Yes</td>\n",
       "      <td>Yes</td>\n",
       "      <td>Yes</td>\n",
       "      <td>Yes</td>\n",
       "      <td>One year</td>\n",
       "      <td>Yes</td>\n",
       "      <td>Bank transfer (automatic)</td>\n",
       "      <td>79.85</td>\n",
       "      <td>3320.75</td>\n",
       "    </tr>\n",
       "    <tr>\n",
       "      <th>1</th>\n",
       "      <td>0201-MIBOL</td>\n",
       "      <td>Female</td>\n",
       "      <td>1</td>\n",
       "      <td>No</td>\n",
       "      <td>No</td>\n",
       "      <td>66</td>\n",
       "      <td>Yes</td>\n",
       "      <td>Yes</td>\n",
       "      <td>Fiber optic</td>\n",
       "      <td>Yes</td>\n",
       "      <td>No</td>\n",
       "      <td>No</td>\n",
       "      <td>No</td>\n",
       "      <td>Yes</td>\n",
       "      <td>Yes</td>\n",
       "      <td>Two year</td>\n",
       "      <td>Yes</td>\n",
       "      <td>Bank transfer (automatic)</td>\n",
       "      <td>102.40</td>\n",
       "      <td>6471.85</td>\n",
       "    </tr>\n",
       "    <tr>\n",
       "      <th>2</th>\n",
       "      <td>1600-DILPE</td>\n",
       "      <td>Female</td>\n",
       "      <td>0</td>\n",
       "      <td>No</td>\n",
       "      <td>No</td>\n",
       "      <td>12</td>\n",
       "      <td>Yes</td>\n",
       "      <td>No</td>\n",
       "      <td>DSL</td>\n",
       "      <td>No</td>\n",
       "      <td>No</td>\n",
       "      <td>No</td>\n",
       "      <td>No</td>\n",
       "      <td>No</td>\n",
       "      <td>No</td>\n",
       "      <td>Month-to-month</td>\n",
       "      <td>Yes</td>\n",
       "      <td>Bank transfer (automatic)</td>\n",
       "      <td>45.00</td>\n",
       "      <td>524.35</td>\n",
       "    </tr>\n",
       "  </tbody>\n",
       "</table>\n",
       "</div>"
      ],
      "text/plain": [
       "   customerID  gender  SeniorCitizen Partner Dependents  tenure PhoneService  \\\n",
       "0  8879-ZKJOF  Female              0      No         No      41          Yes   \n",
       "1  0201-MIBOL  Female              1      No         No      66          Yes   \n",
       "2  1600-DILPE  Female              0      No         No      12          Yes   \n",
       "\n",
       "  MultipleLines InternetService OnlineSecurity OnlineBackup DeviceProtection  \\\n",
       "0            No             DSL            Yes           No              Yes   \n",
       "1           Yes     Fiber optic            Yes           No               No   \n",
       "2            No             DSL             No           No               No   \n",
       "\n",
       "  TechSupport StreamingTV StreamingMovies        Contract PaperlessBilling  \\\n",
       "0         Yes         Yes             Yes        One year              Yes   \n",
       "1          No         Yes             Yes        Two year              Yes   \n",
       "2          No          No              No  Month-to-month              Yes   \n",
       "\n",
       "               PaymentMethod  MonthlyCharges TotalCharges  \n",
       "0  Bank transfer (automatic)           79.85      3320.75  \n",
       "1  Bank transfer (automatic)          102.40      6471.85  \n",
       "2  Bank transfer (automatic)           45.00       524.35  "
      ]
     },
     "execution_count": 3,
     "metadata": {},
     "output_type": "execute_result"
    }
   ],
   "source": [
    "X_test.head(3)"
   ]
  },
  {
   "cell_type": "code",
   "execution_count": 4,
   "id": "693c3fa0",
   "metadata": {},
   "outputs": [],
   "source": [
    "with open('catboost_pipeline.dill', 'rb') as in_strm:\n",
    "    pipeline = dill.load(in_strm)"
   ]
  },
  {
   "cell_type": "code",
   "execution_count": 5,
   "id": "25869812",
   "metadata": {},
   "outputs": [],
   "source": [
    "predictions = pipeline.predict_proba(X_test)\n",
    "pd.DataFrame({'preds': predictions[:, 1]}).to_csv(\"test_predictions.csv\", index=None)"
   ]
  },
  {
   "cell_type": "code",
   "execution_count": 6,
   "id": "f16f63ed",
   "metadata": {},
   "outputs": [
    {
     "name": "stdout",
     "output_type": "stream",
     "text": [
      "Best Threshold=0.366063, F-Score=0.646, Precision=0.569, Recall=0.746, Roc_auc=0.863\n"
     ]
    }
   ],
   "source": [
    "precision, recall, thresholds = precision_recall_curve(y_test, predictions[:, 1][:])\n",
    "fscore = (2 * precision * recall) / (precision + recall)\n",
    "ix = np.argmax(fscore)\n",
    "print('Best Threshold=%f, F-Score=%.3f, Precision=%.3f, Recall=%.3f, Roc_auc=%.3f' % (thresholds[ix], \n",
    "                                                                        fscore[ix],\n",
    "                                                                        precision[ix],\n",
    "                                                                        recall[ix], roc_auc_score(y_test, predictions[:, 1][:])))  "
   ]
  },
  {
   "cell_type": "markdown",
   "id": "27385b5c",
   "metadata": {},
   "source": [
    "Результат такой же, как на Step 1.\n",
    "\n",
    "Попробуем дать модели новые данные с пропусками и ошибками"
   ]
  },
  {
   "cell_type": "code",
   "execution_count": 7,
   "id": "7f22f574",
   "metadata": {},
   "outputs": [],
   "source": [
    "customerID, gender, SeniorCitizen, Partner, Dependents, tenure, PhoneService, MultipleLines, InternetService, OnlineSecurity, \\\n",
    "OnlineBackup, DeviceProtection, TechSupport, StreamingTV, StreamingMovies, Contract, PaperlessBilling, \\\n",
    "PaymentMethod, MonthlyCharges, TotalCharges = ('', 'lkj', 0, 'No', 'No', 3, 'Yes', 'No', 'DSL', \\\n",
    "                                               'Yes', 'No', 'aaa', '', '', '', '', 'Yes',\\\n",
    "                                               '','dfg', '987')"
   ]
  },
  {
   "cell_type": "code",
   "execution_count": 8,
   "id": "aa15f46f",
   "metadata": {},
   "outputs": [
    {
     "data": {
      "text/plain": [
       "array([[0.84439982, 0.15560018]])"
      ]
     },
     "execution_count": 8,
     "metadata": {},
     "output_type": "execute_result"
    }
   ],
   "source": [
    "pipeline.predict_proba(pd.DataFrame({'customerID': [customerID],\n",
    "                                          'gender': [gender],\n",
    "                                          'SeniorCitizen': [SeniorCitizen],\n",
    "                                          'Partner': [Partner],\n",
    "                                          'Dependents': [Dependents],\n",
    "                                          'tenure': [tenure],\n",
    "                                          'PhoneService': [PhoneService],\n",
    "                                          'MultipleLines': [MultipleLines],\n",
    "                                          'InternetService': [InternetService],\n",
    "                                          'OnlineSecurity': [OnlineSecurity],\n",
    "                                          'OnlineBackup': [OnlineBackup],\n",
    "                                          'DeviceProtection': [DeviceProtection],\n",
    "                                          'TechSupport': [TechSupport],\n",
    "                                          'StreamingTV': [StreamingTV],\n",
    "                                          'StreamingMovies': [StreamingMovies],\n",
    "                                          'Contract': [Contract],\n",
    "                                          'PaperlessBilling': [PaperlessBilling],\n",
    "                                          'PaymentMethod': [PaymentMethod],\n",
    "                                          'MonthlyCharges': [MonthlyCharges],\n",
    "                                          'TotalCharges': [TotalCharges]}))"
   ]
  },
  {
   "cell_type": "code",
   "execution_count": null,
   "id": "6e91bd52",
   "metadata": {},
   "outputs": [],
   "source": []
  }
 ],
 "metadata": {
  "kernelspec": {
   "display_name": "Python 3",
   "language": "python",
   "name": "python3"
  },
  "language_info": {
   "codemirror_mode": {
    "name": "ipython",
    "version": 3
   },
   "file_extension": ".py",
   "mimetype": "text/x-python",
   "name": "python",
   "nbconvert_exporter": "python",
   "pygments_lexer": "ipython3",
   "version": "3.7.9"
  }
 },
 "nbformat": 4,
 "nbformat_minor": 5
}
