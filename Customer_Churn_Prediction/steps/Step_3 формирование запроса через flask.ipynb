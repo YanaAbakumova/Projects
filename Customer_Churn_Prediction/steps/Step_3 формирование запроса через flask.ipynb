{
 "cells": [
  {
   "cell_type": "code",
   "execution_count": 2,
   "id": "c70db96c",
   "metadata": {},
   "outputs": [],
   "source": [
    "import pandas as pd\n",
    "from urllib import request, parse\n",
    "from sklearn.metrics import precision_recall_curve, roc_curve, roc_auc_score, confusion_matrix\n",
    "import warnings\n",
    "warnings.simplefilter('ignore')\n",
    "import urllib.request\n",
    "import json  \n",
    "import dill\n",
    "import numpy as np\n",
    "\n",
    "X_test = pd.read_csv(\"X_test.csv\")\n",
    "y_test = pd.read_csv(\"y_test.csv\")"
   ]
  },
  {
   "cell_type": "code",
   "execution_count": 3,
   "id": "6affc8f7",
   "metadata": {},
   "outputs": [
    {
     "data": {
      "text/html": [
       "<div>\n",
       "<style scoped>\n",
       "    .dataframe tbody tr th:only-of-type {\n",
       "        vertical-align: middle;\n",
       "    }\n",
       "\n",
       "    .dataframe tbody tr th {\n",
       "        vertical-align: top;\n",
       "    }\n",
       "\n",
       "    .dataframe thead th {\n",
       "        text-align: right;\n",
       "    }\n",
       "</style>\n",
       "<table border=\"1\" class=\"dataframe\">\n",
       "  <thead>\n",
       "    <tr style=\"text-align: right;\">\n",
       "      <th></th>\n",
       "      <th>customerID</th>\n",
       "      <th>gender</th>\n",
       "      <th>SeniorCitizen</th>\n",
       "      <th>Partner</th>\n",
       "      <th>Dependents</th>\n",
       "      <th>tenure</th>\n",
       "      <th>PhoneService</th>\n",
       "      <th>MultipleLines</th>\n",
       "      <th>InternetService</th>\n",
       "      <th>OnlineSecurity</th>\n",
       "      <th>OnlineBackup</th>\n",
       "      <th>DeviceProtection</th>\n",
       "      <th>TechSupport</th>\n",
       "      <th>StreamingTV</th>\n",
       "      <th>StreamingMovies</th>\n",
       "      <th>Contract</th>\n",
       "      <th>PaperlessBilling</th>\n",
       "      <th>PaymentMethod</th>\n",
       "      <th>MonthlyCharges</th>\n",
       "      <th>TotalCharges</th>\n",
       "    </tr>\n",
       "  </thead>\n",
       "  <tbody>\n",
       "    <tr>\n",
       "      <th>0</th>\n",
       "      <td>8879-ZKJOF</td>\n",
       "      <td>Female</td>\n",
       "      <td>0</td>\n",
       "      <td>No</td>\n",
       "      <td>No</td>\n",
       "      <td>41</td>\n",
       "      <td>Yes</td>\n",
       "      <td>No</td>\n",
       "      <td>DSL</td>\n",
       "      <td>Yes</td>\n",
       "      <td>No</td>\n",
       "      <td>Yes</td>\n",
       "      <td>Yes</td>\n",
       "      <td>Yes</td>\n",
       "      <td>Yes</td>\n",
       "      <td>One year</td>\n",
       "      <td>Yes</td>\n",
       "      <td>Bank transfer (automatic)</td>\n",
       "      <td>79.85</td>\n",
       "      <td>3320.75</td>\n",
       "    </tr>\n",
       "    <tr>\n",
       "      <th>1</th>\n",
       "      <td>0201-MIBOL</td>\n",
       "      <td>Female</td>\n",
       "      <td>1</td>\n",
       "      <td>No</td>\n",
       "      <td>No</td>\n",
       "      <td>66</td>\n",
       "      <td>Yes</td>\n",
       "      <td>Yes</td>\n",
       "      <td>Fiber optic</td>\n",
       "      <td>Yes</td>\n",
       "      <td>No</td>\n",
       "      <td>No</td>\n",
       "      <td>No</td>\n",
       "      <td>Yes</td>\n",
       "      <td>Yes</td>\n",
       "      <td>Two year</td>\n",
       "      <td>Yes</td>\n",
       "      <td>Bank transfer (automatic)</td>\n",
       "      <td>102.40</td>\n",
       "      <td>6471.85</td>\n",
       "    </tr>\n",
       "    <tr>\n",
       "      <th>2</th>\n",
       "      <td>1600-DILPE</td>\n",
       "      <td>Female</td>\n",
       "      <td>0</td>\n",
       "      <td>No</td>\n",
       "      <td>No</td>\n",
       "      <td>12</td>\n",
       "      <td>Yes</td>\n",
       "      <td>No</td>\n",
       "      <td>DSL</td>\n",
       "      <td>No</td>\n",
       "      <td>No</td>\n",
       "      <td>No</td>\n",
       "      <td>No</td>\n",
       "      <td>No</td>\n",
       "      <td>No</td>\n",
       "      <td>Month-to-month</td>\n",
       "      <td>Yes</td>\n",
       "      <td>Bank transfer (automatic)</td>\n",
       "      <td>45.00</td>\n",
       "      <td>524.35</td>\n",
       "    </tr>\n",
       "  </tbody>\n",
       "</table>\n",
       "</div>"
      ],
      "text/plain": [
       "   customerID  gender  SeniorCitizen Partner Dependents  tenure PhoneService  \\\n",
       "0  8879-ZKJOF  Female              0      No         No      41          Yes   \n",
       "1  0201-MIBOL  Female              1      No         No      66          Yes   \n",
       "2  1600-DILPE  Female              0      No         No      12          Yes   \n",
       "\n",
       "  MultipleLines InternetService OnlineSecurity OnlineBackup DeviceProtection  \\\n",
       "0            No             DSL            Yes           No              Yes   \n",
       "1           Yes     Fiber optic            Yes           No               No   \n",
       "2            No             DSL             No           No               No   \n",
       "\n",
       "  TechSupport StreamingTV StreamingMovies        Contract PaperlessBilling  \\\n",
       "0         Yes         Yes             Yes        One year              Yes   \n",
       "1          No         Yes             Yes        Two year              Yes   \n",
       "2          No          No              No  Month-to-month              Yes   \n",
       "\n",
       "               PaymentMethod  MonthlyCharges TotalCharges  \n",
       "0  Bank transfer (automatic)           79.85      3320.75  \n",
       "1  Bank transfer (automatic)          102.40      6471.85  \n",
       "2  Bank transfer (automatic)           45.00       524.35  "
      ]
     },
     "execution_count": 3,
     "metadata": {},
     "output_type": "execute_result"
    }
   ],
   "source": [
    "X_test.head(3)"
   ]
  },
  {
   "cell_type": "code",
   "execution_count": 4,
   "id": "0b5e5a80",
   "metadata": {},
   "outputs": [],
   "source": [
    "def get_prediction(x):\n",
    "    customerID, gender, SeniorCitizen, Partner, Dependents, tenure, PhoneService, MultipleLines, InternetService, \\\n",
    "    OnlineSecurity, OnlineBackup, DeviceProtection, TechSupport, StreamingTV, StreamingMovies, Contract, PaperlessBilling,\\\n",
    "    PaymentMethod, MonthlyCharges, TotalCharges = x\n",
    "    body = {'customerID': customerID, \n",
    "            'gender': gender,\n",
    "            'SeniorCitizen': SeniorCitizen, \n",
    "            'Partner': Partner, \n",
    "            'Dependents': Dependents,\n",
    "            'tenure': tenure, \n",
    "            'PhoneService': PhoneService, \n",
    "            'MultipleLines': MultipleLines, \n",
    "            'InternetService': InternetService,\n",
    "            'OnlineSecurity': OnlineSecurity, \n",
    "            'OnlineBackup': OnlineBackup, \n",
    "            'DeviceProtection': DeviceProtection, \n",
    "            'TechSupport': TechSupport,\n",
    "            'StreamingTV': StreamingTV, \n",
    "            'StreamingMovies': StreamingMovies, \n",
    "            'Contract': Contract, \n",
    "            'PaperlessBilling': PaperlessBilling,\n",
    "            'PaymentMethod': PaymentMethod, \n",
    "            'MonthlyCharges': MonthlyCharges, \n",
    "            'TotalCharges': TotalCharges\n",
    "            } \n",
    "\n",
    "    myurl = \"http://127.0.0.1:5000/predict\"\n",
    "    req = urllib.request.Request(myurl)\n",
    "    req.add_header('Content-Type', 'application/json; charset=utf-8')\n",
    "    jsondata = json.dumps(body)\n",
    "    jsondataasbytes = jsondata.encode('utf-8')   # needs to be bytes\n",
    "    req.add_header('Content-Length', len(jsondataasbytes))\n",
    "    #print (jsondataasbytes)\n",
    "    response = urllib.request.urlopen(req, jsondataasbytes)\n",
    "    r = json.loads(response.read())\n",
    "    return r['forecast'], round(r['predictions'], 3)"
   ]
  },
  {
   "cell_type": "markdown",
   "id": "2a0cb745",
   "metadata": {},
   "source": [
    "#### Единичный запрос:\n",
    "\n",
    "поскольку на Step 1 был подсчитан оптимальный порог отнесения клиента к оттоку thr = 0.366063, этот порог использован для выдачи прогноза по оттоку. probability score тоже оставляю для наглядности"
   ]
  },
  {
   "cell_type": "code",
   "execution_count": 5,
   "id": "7bdef884",
   "metadata": {},
   "outputs": [
    {
     "data": {
      "text/plain": [
       "('с клиентом всё хорошо.', 0.073)"
      ]
     },
     "execution_count": 5,
     "metadata": {},
     "output_type": "execute_result"
    }
   ],
   "source": [
    "get_prediction(('', 'дшщ з', 0, 'No', 'No', '', 'Yes', 'No', 'DSL', 'Yes', 'No', 'Yes', '', '', '', '', 'Yes', '', '', '3320.7'))"
   ]
  },
  {
   "cell_type": "markdown",
   "id": "b8d3d3ea",
   "metadata": {},
   "source": [
    "#### Несколько запросов из X_test"
   ]
  },
  {
   "cell_type": "code",
   "execution_count": 6,
   "id": "43c5fd93",
   "metadata": {},
   "outputs": [
    {
     "data": {
      "text/plain": [
       "0         (с клиентом всё хорошо., 0.099)\n",
       "1         (с клиентом всё хорошо., 0.139)\n",
       "2         (с клиентом всё хорошо., 0.298)\n",
       "3     (клиент может уйти в отток!, 0.434)\n",
       "4         (с клиентом всё хорошо., 0.187)\n",
       "5         (с клиентом всё хорошо., 0.176)\n",
       "6         (с клиентом всё хорошо., 0.332)\n",
       "7     (клиент может уйти в отток!, 0.636)\n",
       "8         (с клиентом всё хорошо., 0.125)\n",
       "9         (с клиентом всё хорошо., 0.235)\n",
       "10    (клиент может уйти в отток!, 0.419)\n",
       "11        (с клиентом всё хорошо., 0.225)\n",
       "12    (клиент может уйти в отток!, 0.649)\n",
       "13    (клиент может уйти в отток!, 0.392)\n",
       "14        (с клиентом всё хорошо., 0.029)\n",
       "15        (с клиентом всё хорошо., 0.017)\n",
       "16        (с клиентом всё хорошо., 0.364)\n",
       "17    (клиент может уйти в отток!, 0.434)\n",
       "18    (клиент может уйти в отток!, 0.454)\n",
       "19        (с клиентом всё хорошо., 0.328)\n",
       "20         (с клиентом всё хорошо., 0.32)\n",
       "21     (клиент может уйти в отток!, 0.41)\n",
       "22        (с клиентом всё хорошо., 0.138)\n",
       "23        (с клиентом всё хорошо., 0.141)\n",
       "24        (с клиентом всё хорошо., 0.087)\n",
       "25        (с клиентом всё хорошо., 0.147)\n",
       "26        (с клиентом всё хорошо., 0.137)\n",
       "27        (с клиентом всё хорошо., 0.058)\n",
       "28         (с клиентом всё хорошо., 0.11)\n",
       "29        (с клиентом всё хорошо., 0.199)\n",
       "dtype: object"
      ]
     },
     "execution_count": 6,
     "metadata": {},
     "output_type": "execute_result"
    }
   ],
   "source": [
    "X_test.iloc[:30].apply(lambda x: get_prediction(x), 1)"
   ]
  }
 ],
 "metadata": {
  "kernelspec": {
   "display_name": "Python 3",
   "language": "python",
   "name": "python3"
  },
  "language_info": {
   "codemirror_mode": {
    "name": "ipython",
    "version": 3
   },
   "file_extension": ".py",
   "mimetype": "text/x-python",
   "name": "python",
   "nbconvert_exporter": "python",
   "pygments_lexer": "ipython3",
   "version": "3.7.9"
  }
 },
 "nbformat": 4,
 "nbformat_minor": 5
}
